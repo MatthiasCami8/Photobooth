{
 "cells": [
  {
   "cell_type": "code",
   "execution_count": null,
   "metadata": {},
   "outputs": [],
   "source": [
    "from util.add_watermark import watermark_image\n",
    "import cv2"
   ]
  },
  {
   "cell_type": "code",
   "execution_count": null,
   "metadata": {},
   "outputs": [],
   "source": [
    "from glob import glob\n",
    "logoclass = watermark_image('/Users/lucasdesard/Downloads/sup.png', size=0.5)\n",
    "for img in glob('/Users/lucasdesard/Downloads/ports/*'):\n",
    "    print(img)\n",
    "    logoclass = watermark_image('/Users/lucasdesard/Downloads/sup.png', size=0.5)\n",
    "    final_img = cv2.imread(img)\n",
    "    final_img = logoclass.apply_frames(final_img)\n",
    "    result_name = img.split('/')[-1]\n",
    "    cv2.imwrite(f'/Users/lucasdesard/Downloads/{result_name}', final_img)"
   ]
  },
  {
   "cell_type": "code",
   "execution_count": null,
   "metadata": {},
   "outputs": [],
   "source": []
  }
 ],
 "metadata": {
  "kernelspec": {
   "display_name": "Python 3",
   "language": "python",
   "name": "python3"
  },
  "language_info": {
   "codemirror_mode": {
    "name": "ipython",
    "version": 3
   },
   "file_extension": ".py",
   "mimetype": "text/x-python",
   "name": "python",
   "nbconvert_exporter": "python",
   "pygments_lexer": "ipython3",
   "version": "3.10.6"
  },
  "orig_nbformat": 4,
  "vscode": {
   "interpreter": {
    "hash": "aee8b7b246df8f9039afb4144a1f6fd8d2ca17a180786b69acc140d282b71a49"
   }
  }
 },
 "nbformat": 4,
 "nbformat_minor": 2
}
